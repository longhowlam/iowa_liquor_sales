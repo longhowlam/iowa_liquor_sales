{
 "cells": [
  {
   "cell_type": "markdown",
   "metadata": {},
   "source": [
    "# IOWA LIQUOR PURCHASES\n",
    "\n",
    "Data of liquor purchased by stores in Iowa. See description of data [here](https://data.iowa.gov/Sales-Distribution/Iowa-Liquor-Sales/m3tr-qhgy)\n",
    "\n",
    "It is a large text file with 18.5 mln records. I zipped the file tp save hard disk space and I'm using fread from the datatable package to import the zip directly."
   ]
  },
  {
   "cell_type": "code",
   "execution_count": 1,
   "metadata": {},
   "outputs": [],
   "source": [
    "import datatable as dt\n",
    "import mlxtend\n",
    "import pandas as pd"
   ]
  },
  {
   "cell_type": "code",
   "execution_count": 2,
   "metadata": {},
   "outputs": [],
   "source": [
    "liquor_sales = dt.fread(\"Iowa_Liquor_Sales.zip\")"
   ]
  },
  {
   "cell_type": "code",
   "execution_count": 3,
   "metadata": {},
   "outputs": [
    {
     "output_type": "execute_result",
     "data": {
      "text/plain": "",
      "text/html": "<style type='text/css'>\n.datatable table.frame { margin-bottom: 0; }\n.datatable table.frame thead { border-bottom: none; }\n.datatable table.frame tr.coltypes td {  color: #FFFFFF;  line-height: 6px;  padding: 0 0.5em;}\n.datatable .bool { background: #DDDD99; }\n.datatable .obj  { background: #565656; }\n.datatable .int  { background: #5D9E5D; }\n.datatable .real { background: #4040CC; }\n.datatable .str  { background: #CC4040; }\n.datatable .row_index {  background: var(--jp-border-color3);  border-right: 1px solid var(--jp-border-color0);  color: var(--jp-ui-font-color3);  font-size: 9px;}\n.datatable .frame tr.coltypes .row_index {  background: var(--jp-border-color0);}\n.datatable th:nth-child(2) { padding-left: 12px; }\n.datatable .hellipsis {  color: var(--jp-cell-editor-border-color);}\n.datatable .vellipsis {  background: var(--jp-layout-color0);  color: var(--jp-cell-editor-border-color);}\n.datatable .na {  color: var(--jp-cell-editor-border-color);  font-size: 80%;}\n.datatable .footer { font-size: 9px; }\n.datatable .frame_dimensions {  background: var(--jp-border-color3);  border-top: 1px solid var(--jp-border-color0);  color: var(--jp-ui-font-color3);  display: inline-block;  opacity: 0.6;  padding: 1px 10px 1px 5px;}\n</style>\n<div class='datatable'>\n  <table class='frame'>\n  <thead>\n    <tr class='colnames'><td class='row_index'></td><th>Invoice/Item Number</th><th>Date</th><th>Store Number</th><th>Store Name</th><th>Address</th><th>City</th><th>Zip Code</th><th>Store Location</th><th>County Number</th><th>County</th><th class='vellipsis'>&hellip;</th><th>State Bottle Retail</th><th>Bottles Sold</th><th>Sale (Dollars)</th><th>Volume Sold (Liters)</th><th>Volume Sold (Gallons)</th></tr>\n    <tr class='coltypes'><td class='row_index'></td><td class='str' title='str32'>&#x25AA;&#x25AA;&#x25AA;&#x25AA;</td><td class='str' title='str32'>&#x25AA;&#x25AA;&#x25AA;&#x25AA;</td><td class='int' title='int32'>&#x25AA;&#x25AA;&#x25AA;&#x25AA;</td><td class='str' title='str32'>&#x25AA;&#x25AA;&#x25AA;&#x25AA;</td><td class='str' title='str32'>&#x25AA;&#x25AA;&#x25AA;&#x25AA;</td><td class='str' title='str32'>&#x25AA;&#x25AA;&#x25AA;&#x25AA;</td><td class='str' title='str32'>&#x25AA;&#x25AA;&#x25AA;&#x25AA;</td><td class='str' title='str32'>&#x25AA;&#x25AA;&#x25AA;&#x25AA;</td><td class='int' title='int32'>&#x25AA;&#x25AA;&#x25AA;&#x25AA;</td><td class='str' title='str32'>&#x25AA;&#x25AA;&#x25AA;&#x25AA;</td><td></td><td class='real' title='float64'>&#x25AA;&#x25AA;&#x25AA;&#x25AA;&#x25AA;&#x25AA;&#x25AA;&#x25AA;</td><td class='int' title='int32'>&#x25AA;&#x25AA;&#x25AA;&#x25AA;</td><td class='real' title='float64'>&#x25AA;&#x25AA;&#x25AA;&#x25AA;&#x25AA;&#x25AA;&#x25AA;&#x25AA;</td><td class='real' title='float64'>&#x25AA;&#x25AA;&#x25AA;&#x25AA;&#x25AA;&#x25AA;&#x25AA;&#x25AA;</td><td class='real' title='float64'>&#x25AA;&#x25AA;&#x25AA;&#x25AA;&#x25AA;&#x25AA;&#x25AA;&#x25AA;</td></tr>\n  </thead>\n  <tbody>\n    <tr><td class='row_index'>0</td><td>S08581200014</td><td>10/25/2012</td><td>4327</td><td>Quick Mart / Hiawatha</td><td>655 ROBBINS RD</td><td>HIAWATHA</td><td>52233</td><td>POINT (-91.672961 42.044452)</td><td>57</td><td>Linn</td><td class=vellipsis>&hellip;</td><td>7.84</td><td>12</td><td>94.08</td><td>9</td><td>2.38</td></tr>\n    <tr><td class='row_index'>1</td><td>S05899700045</td><td>06/05/2012</td><td>2959</td><td>Dahl's / Merle Hay</td><td>4343 MERLE HAY ROAD</td><td>DES MOINES</td><td>50310</td><td>POINT (-93.697647 41.63740800000001)</td><td>77</td><td>Polk</td><td class=vellipsis>&hellip;</td><td>6.15</td><td>12</td><td>73.8</td><td>9</td><td>2.38</td></tr>\n    <tr><td class='row_index'>2</td><td>S03713800144</td><td>01/24/2012</td><td>2616</td><td>Hy-Vee Food and Drug / Clinton</td><td>901 SOUTH 4TH ST</td><td>CLINTON</td><td>52732</td><td>POINT (-90.193204 41.836268000000004)</td><td>23</td><td>Clinton</td><td class=vellipsis>&hellip;</td><td>31.14</td><td>3</td><td>93.42</td><td>2.25</td><td>0.59</td></tr>\n    <tr><td class='row_index'>3</td><td>S10537300030</td><td>02/11/2013</td><td>3943</td><td>Good and Quick Co</td><td>519 LINCOLNWAY</td><td>NEVADA</td><td>50201</td><td>POINT (-93.464816 42.022781)</td><td>85</td><td>Story</td><td class=vellipsis>&hellip;</td><td>12.3</td><td>1</td><td>12.3</td><td>1.75</td><td>0.46</td></tr>\n    <tr><td class='row_index'>4</td><td>S11478900061</td><td>04/04/2013</td><td>2633</td><td>Hy-Vee #3 / BDI / Des Moines</td><td>3221 SE 14TH ST</td><td>DES MOINES</td><td>50320</td><td>POINT (-93.596754 41.554101)</td><td>77</td><td>Polk</td><td class=vellipsis>&hellip;</td><td>14</td><td>12</td><td>168</td><td>9</td><td>2.38</td></tr>\n    <tr><td class='row_index'>5</td><td>S10675400125</td><td>02/19/2013</td><td>2524</td><td>Hy-Vee Food Store / Dubuque</td><td>3500 DODGE ST</td><td>DUBUQUE</td><td>52001</td><td></td><td>31</td><td>Dubuque</td><td class=vellipsis>&hellip;</td><td>16.49</td><td>3</td><td>49.47</td><td>2.25</td><td>0.59</td></tr>\n    <tr><td class='row_index'>6</td><td>S17418100007</td><td>02/17/2014</td><td>4418</td><td>KUM &amp; GO #46 / WALNUT</td><td>1709 ANTIQUE CITY DR</td><td>WALNUT</td><td>51577</td><td>POINT (-95.222087 41.494138)</td><td>78</td><td>Pottawattamie</td><td class=vellipsis>&hellip;</td><td>4.6</td><td>24</td><td>110.4</td><td>9</td><td>2.38</td></tr>\n    <tr><td class='row_index'>7</td><td>S05927100021</td><td>06/06/2012</td><td>2535</td><td>Hy-Vee Food Store #1 / WDM</td><td>1700 VALLEY WEST DR</td><td>WEST DES MOINES</td><td>50265</td><td></td><td>77</td><td>Polk</td><td class=vellipsis>&hellip;</td><td>12.74</td><td>12</td><td>152.88</td><td>9</td><td>2.38</td></tr>\n    <tr><td class='row_index'>8</td><td>S14663100124</td><td>09/18/2013</td><td>2500</td><td>Hy-Vee Food Store #1 / Ames</td><td>3800 W LINCOLN WAY</td><td>AMES</td><td>50010</td><td></td><td>85</td><td>Story</td><td class=vellipsis>&hellip;</td><td>4.97</td><td>4</td><td>19.88</td><td>3</td><td>0.79</td></tr>\n    <tr><td class='row_index'>9</td><td>S10409500072</td><td>02/05/2013</td><td>4509</td><td>A J'S LIQUOR II</td><td>2515 CHAMBERLAIN</td><td>AMES</td><td>50010</td><td>POINT (-93.650838 42.021461)</td><td>85</td><td>Story</td><td class=vellipsis>&hellip;</td><td>8.05</td><td>24</td><td>193.2</td><td>18</td><td>4.76</td></tr>\n    <tr><td class='row_index'>&#x22EE;</td><td class='hellipsis'>&#x22EE;</td><td class='hellipsis'>&#x22EE;</td><td class='hellipsis'>&#x22EE;</td><td class='hellipsis'>&#x22EE;</td><td class='hellipsis'>&#x22EE;</td><td class='hellipsis'>&#x22EE;</td><td class='hellipsis'>&#x22EE;</td><td class='hellipsis'>&#x22EE;</td><td class='hellipsis'>&#x22EE;</td><td class='hellipsis'>&#x22EE;</td><td class='hellipsis'>&#x22F1;</td><td class='hellipsis'>&#x22EE;</td><td class='hellipsis'>&#x22EE;</td><td class='hellipsis'>&#x22EE;</td><td class='hellipsis'>&#x22EE;</td><td class='hellipsis'>&#x22EE;</td></tr>\n    <tr><td class='row_index'>18,532,153</td><td>S27617400003</td><td>08/31/2015</td><td>3611</td><td>Logan Super Foods</td><td>403 E 6TH</td><td>LOGAN</td><td>51546</td><td>POINT (-95.786133 41.644108)</td><td>43</td><td>Harrison</td><td class=vellipsis>&hellip;</td><td>9.75</td><td>6</td><td>58.5</td><td>10.5</td><td>2.77</td></tr>\n    <tr><td class='row_index'>18,532,154</td><td>S28975100180</td><td>11/10/2015</td><td>2620</td><td>Hy-Vee / Windsor Heights</td><td>7101 UNIVERSITY AVE</td><td>WINDSOR HEIGHTS</td><td>50311</td><td></td><td>77</td><td>Polk</td><td class=vellipsis>&hellip;</td><td>9.45</td><td>1</td><td>9.45</td><td>0.75</td><td>0.2</td></tr>\n    <tr><td class='row_index'>18,532,155</td><td>S10166700028</td><td>01/22/2013</td><td>3816</td><td>Swils</td><td>200 E OAK ST</td><td>RED OAK</td><td>51566</td><td>POINT (-95.230032 41.016691)</td><td>69</td><td>Montgomery</td><td class=vellipsis>&hellip;</td><td>26.24</td><td>6</td><td>157.44</td><td>10.5</td><td>2.77</td></tr>\n    <tr><td class='row_index'>18,532,156</td><td>S22593800091</td><td>11/24/2014</td><td>3869</td><td>Bootleggin' Barzini's Fin</td><td>412  1ST AVE</td><td>CORALVILLE</td><td>52241</td><td>POINT (-91.565517 41.672672)</td><td>52</td><td>Johnson</td><td class=vellipsis>&hellip;</td><td>48.63</td><td>2</td><td>97.26</td><td>1.5</td><td>0.4</td></tr>\n    <tr><td class='row_index'>18,532,157</td><td>S23359100060</td><td>01/07/2015</td><td>2621</td><td>Hy-Vee Food Store #3 / Sioux City</td><td>3301 GORDON DR</td><td>SIOUX CITY</td><td>51105</td><td>POINT (-96.364108 42.487752)</td><td>97</td><td>Woodbury</td><td class=vellipsis>&hellip;</td><td>26.85</td><td>36</td><td>966.6</td><td>36</td><td>9.51</td></tr>\n  </tbody>\n  </table>\n  <div class='footer'>\n    <div class='frame_dimensions'>18,532,158 rows &times; 24 columns</div>\n  </div>\n</div>\n"
     },
     "metadata": {},
     "execution_count": 3
    }
   ],
   "source": [
    "liquor_sales"
   ]
  },
  {
   "cell_type": "code",
   "execution_count": 13,
   "metadata": {},
   "outputs": [
    {
     "output_type": "execute_result",
     "data": {
      "text/plain": "",
      "text/html": "<div class='datatable'>\n  <table class='frame'>\n  <thead>\n    <tr class='colnames'><td class='row_index'></td><th>Invoice/Item Number</th><th>Date</th><th>Store Number</th><th>Store Name</th><th>Address</th><th>City</th><th>Zip Code</th><th>Store Location</th><th>County Number</th><th>County</th><th class='vellipsis'>&hellip;</th><th>State Bottle Retail</th><th>Bottles Sold</th><th>Sale (Dollars)</th><th>Volume Sold (Liters)</th><th>Volume Sold (Gallons)</th></tr>\n    <tr class='coltypes'><td class='row_index'></td><td class='str' title='str32'>&#x25AA;&#x25AA;&#x25AA;&#x25AA;</td><td class='str' title='str32'>&#x25AA;&#x25AA;&#x25AA;&#x25AA;</td><td class='int' title='int32'>&#x25AA;&#x25AA;&#x25AA;&#x25AA;</td><td class='str' title='str32'>&#x25AA;&#x25AA;&#x25AA;&#x25AA;</td><td class='str' title='str32'>&#x25AA;&#x25AA;&#x25AA;&#x25AA;</td><td class='str' title='str32'>&#x25AA;&#x25AA;&#x25AA;&#x25AA;</td><td class='str' title='str32'>&#x25AA;&#x25AA;&#x25AA;&#x25AA;</td><td class='str' title='str32'>&#x25AA;&#x25AA;&#x25AA;&#x25AA;</td><td class='int' title='int32'>&#x25AA;&#x25AA;&#x25AA;&#x25AA;</td><td class='str' title='str32'>&#x25AA;&#x25AA;&#x25AA;&#x25AA;</td><td></td><td class='real' title='float64'>&#x25AA;&#x25AA;&#x25AA;&#x25AA;&#x25AA;&#x25AA;&#x25AA;&#x25AA;</td><td class='int' title='int32'>&#x25AA;&#x25AA;&#x25AA;&#x25AA;</td><td class='real' title='float64'>&#x25AA;&#x25AA;&#x25AA;&#x25AA;&#x25AA;&#x25AA;&#x25AA;&#x25AA;</td><td class='real' title='float64'>&#x25AA;&#x25AA;&#x25AA;&#x25AA;&#x25AA;&#x25AA;&#x25AA;&#x25AA;</td><td class='real' title='float64'>&#x25AA;&#x25AA;&#x25AA;&#x25AA;&#x25AA;&#x25AA;&#x25AA;&#x25AA;</td></tr>\n  </thead>\n  <tbody>\n    <tr><td class='row_index'>0</td><td>S10409500072</td><td>02/05/2013</td><td>4509</td><td>A J'S LIQUOR II</td><td>2515 CHAMBERLAIN</td><td>AMES</td><td>50010</td><td>POINT (-93.650838 42.021461)</td><td>85</td><td>Story</td><td class=vellipsis>&hellip;</td><td>8.05</td><td>24</td><td>193.2</td><td>18</td><td>4.76</td></tr>\n  </tbody>\n  </table>\n  <div class='footer'>\n    <div class='frame_dimensions'>1 row &times; 24 columns</div>\n  </div>\n</div>\n"
     },
     "metadata": {},
     "execution_count": 13
    }
   ],
   "source": [
    "liquor_sales [(dt.f[0] == \"S10409500072\")  , :]"
   ]
  },
  {
   "cell_type": "code",
   "execution_count": 72,
   "metadata": {},
   "outputs": [
    {
     "output_type": "execute_result",
     "data": {
      "text/plain": "",
      "text/html": "<div class='datatable'>\n  <table class='frame'>\n  <thead>\n    <tr class='colnames'><td class='row_index'></td><th>Invoice/Item Number</th><th>Date</th><th>Store Number</th><th>Store Name</th><th>Category</th><th>Category Name</th><th>Vendor Number</th><th>Vendor Name</th><th>Item Number</th><th>Item Description</th><th>State Bottle Retail</th><th>Bottles Sold</th></tr>\n    <tr class='coltypes'><td class='row_index'></td><td class='str' title='str32'>&#x25AA;&#x25AA;&#x25AA;&#x25AA;</td><td class='str' title='str32'>&#x25AA;&#x25AA;&#x25AA;&#x25AA;</td><td class='int' title='int32'>&#x25AA;&#x25AA;&#x25AA;&#x25AA;</td><td class='str' title='str32'>&#x25AA;&#x25AA;&#x25AA;&#x25AA;</td><td class='int' title='int32'>&#x25AA;&#x25AA;&#x25AA;&#x25AA;</td><td class='str' title='str32'>&#x25AA;&#x25AA;&#x25AA;&#x25AA;</td><td class='int' title='int32'>&#x25AA;&#x25AA;&#x25AA;&#x25AA;</td><td class='str' title='str32'>&#x25AA;&#x25AA;&#x25AA;&#x25AA;</td><td class='str' title='str32'>&#x25AA;&#x25AA;&#x25AA;&#x25AA;</td><td class='str' title='str32'>&#x25AA;&#x25AA;&#x25AA;&#x25AA;</td><td class='real' title='float64'>&#x25AA;&#x25AA;&#x25AA;&#x25AA;&#x25AA;&#x25AA;&#x25AA;&#x25AA;</td><td class='int' title='int32'>&#x25AA;&#x25AA;&#x25AA;&#x25AA;</td></tr>\n  </thead>\n  <tbody>\n    <tr><td class='row_index'>0</td><td>INV-04635800017</td><td>04/28/2017</td><td>5259</td><td>Gameday Liquor</td><td>1012400</td><td>Irish Whiskies</td><td>370</td><td>PERNOD RICARD USA</td><td>15626</td><td>Jameson</td><td>23.99</td><td>1</td></tr>\n    <tr><td class='row_index'>1</td><td>INV-04636300001</td><td>04/28/2017</td><td>3816</td><td>Swils</td><td>1042100</td><td>Imported Dry Gins</td><td>35</td><td>BACARDI USA INC</td><td>28233</td><td>Bombay Sapphire Gin</td><td>24.75</td><td>2</td></tr>\n    <tr><td class='row_index'>2</td><td>INV-04639800053</td><td>04/28/2017</td><td>3857</td><td>Quillins Food Ranch / Waukon</td><td>1041100</td><td>American Dry Gins</td><td>434</td><td>LUXCO INC</td><td>30527</td><td>Hawkeye Gin</td><td>6.35</td><td>3</td></tr>\n    <tr><td class='row_index'>3</td><td>INV-04639800003</td><td>04/28/2017</td><td>3857</td><td>Quillins Food Ranch / Waukon</td><td>1012100</td><td>Canadian Whiskies</td><td>260</td><td>DIAGEO AMERICAS</td><td>10808</td><td>Crown Royal Regal Apple</td><td>28.34</td><td>12</td></tr>\n    <tr><td class='row_index'>4</td><td>INV-04639800030</td><td>04/28/2017</td><td>3857</td><td>Quillins Food Ranch / Waukon</td><td>1031100</td><td>American Vodkas</td><td>300</td><td>McCormick Distilling Co.</td><td>36908</td><td>Mccormick Vodka Pet</td><td>11.21</td><td>6</td></tr>\n    <tr><td class='row_index'>5</td><td>INV-04640900004</td><td>04/28/2017</td><td>3584</td><td>L and M Beverage</td><td>1081400</td><td>American Schnapps</td><td>65</td><td>Jim Beam Brands</td><td>82881</td><td>Dekuyper Hot Damn! 100prf</td><td>10.16</td><td>12</td></tr>\n    <tr><td class='row_index'>6</td><td>INV-04646300034</td><td>04/28/2017</td><td>3629</td><td>Wal-Mart 1965 / Council Bluffs</td><td>1011200</td><td>Straight Bourbon Whiskies</td><td>65</td><td>Jim Beam Brands</td><td>19068</td><td>Jim Beam</td><td>31.49</td><td>6</td></tr>\n    <tr><td class='row_index'>7</td><td>INV-04646300051</td><td>04/28/2017</td><td>3629</td><td>Wal-Mart 1965 / Council Bluffs</td><td>1091300</td><td>Neutral Grain Spirits Flavored</td><td>346</td><td>OLE SMOKY DISTILLERY LLC</td><td>86749</td><td>Ole Smoky Cherry Moonshine</td><td>16.5</td><td>6</td></tr>\n    <tr><td class='row_index'>8</td><td>INV-04638700003</td><td>04/28/2017</td><td>3930</td><td>Kuennen's Liquor Store</td><td>1031100</td><td>American Vodkas</td><td>297</td><td>Laird &amp; Company</td><td>35918</td><td>Five O'clock Vodka</td><td>10.8</td><td>12</td></tr>\n    <tr><td class='row_index'>9</td><td>INV-04636900027</td><td>04/28/2017</td><td>4823</td><td>Casey's General Store #3223 / Creston</td><td>1081200</td><td>Cream Liqueurs</td><td>305</td><td>Mhw LTD</td><td>73051</td><td>Rumchata Mini</td><td>13.31</td><td>2</td></tr>\n    <tr><td class='row_index'>&#x22EE;</td><td class='hellipsis'>&#x22EE;</td><td class='hellipsis'>&#x22EE;</td><td class='hellipsis'>&#x22EE;</td><td class='hellipsis'>&#x22EE;</td><td class='hellipsis'>&#x22EE;</td><td class='hellipsis'>&#x22EE;</td><td class='hellipsis'>&#x22EE;</td><td class='hellipsis'>&#x22EE;</td><td class='hellipsis'>&#x22EE;</td><td class='hellipsis'>&#x22EE;</td><td class='hellipsis'>&#x22EE;</td><td class='hellipsis'>&#x22EE;</td></tr>\n    <tr><td class='row_index'>4941</td><td>INV-04632900012</td><td>04/28/2017</td><td>4659</td><td>Casey's General Store #2802 / Conrad</td><td>1031200</td><td>American Flavored Vodka</td><td>380</td><td>Phillips Beverage</td><td>41693</td><td>Uv Blue (raspberry) Vodka</td><td>9.75</td><td>12</td></tr>\n    <tr><td class='row_index'>4942</td><td>INV-04638600020</td><td>04/28/2017</td><td>3717</td><td>The Liquor Stop / Sumner</td><td>1081600</td><td>Whiskey Liqueur</td><td>421</td><td>SAZERAC COMPANY  INC</td><td>64866</td><td>Fireball Cinnamon Whiskey</td><td>13.5</td><td>2</td></tr>\n    <tr><td class='row_index'>4943</td><td>INV-04645500049</td><td>04/28/2017</td><td>3963</td><td>Tobacco Hut #14 / Council Bluffs</td><td>1031100</td><td>American Vodkas</td><td>301</td><td>FIFTH GENERATION INC</td><td>38178</td><td>Titos Handmade Vodka</td><td>28.5</td><td>6</td></tr>\n    <tr><td class='row_index'>4944</td><td>INV-04638700015</td><td>04/28/2017</td><td>3930</td><td>Kuennen's Liquor Store</td><td>1031200</td><td>American Flavored Vodka</td><td>380</td><td>Phillips Beverage</td><td>41692</td><td>Uv Blue (raspberry) Vodka</td><td>16.49</td><td>6</td></tr>\n    <tr><td class='row_index'>4945</td><td>INV-04647800032</td><td>04/28/2017</td><td>4073</td><td>Uptown Liquor, Llc</td><td>1081600</td><td>Whiskey Liqueur</td><td>421</td><td>SAZERAC COMPANY  INC</td><td>86881</td><td>Southern Comfort Mini</td><td>8.48</td><td>10</td></tr>\n  </tbody>\n  </table>\n  <div class='footer'>\n    <div class='frame_dimensions'>4946 rows &times; 12 columns</div>\n  </div>\n</div>\n"
     },
     "metadata": {},
     "execution_count": 72
    }
   ],
   "source": [
    "ff = liquor_sales[(dt.f[1] == \"04/28/2017\") , [0,1,2,3,10,11,12,13,14,15,19,20]]\n",
    "ff"
   ]
  },
  {
   "cell_type": "code",
   "execution_count": 52,
   "metadata": {},
   "outputs": [
    {
     "output_type": "execute_result",
     "data": {
      "text/plain": "  Invoice/Item Number        Date  Store Number            Store Name  \\\n0     INV-24094600001  12/23/2019          3881  7 Rayos Liquor Store   \n1     INV-24094600002  12/23/2019          3881  7 Rayos Liquor Store   \n2     INV-24094600003  12/23/2019          3881  7 Rayos Liquor Store   \n3     INV-24094600004  12/23/2019          3881  7 Rayos Liquor Store   \n4     INV-24094600005  12/23/2019          3881  7 Rayos Liquor Store   \n5     INV-24094600006  12/23/2019          3881  7 Rayos Liquor Store   \n6     INV-24094600007  12/23/2019          3881  7 Rayos Liquor Store   \n7     INV-24094600008  12/23/2019          3881  7 Rayos Liquor Store   \n\n   Category                   Category Name  Vendor Number  \\\n0   1701100  Temporary & Specialty Packages            255   \n1   1022200              100% Agave Tequila            255   \n2   1022200              100% Agave Tequila            567   \n3   1011200       Straight Bourbon Whiskies            421   \n4   1012100               Canadian Whiskies            260   \n5   1012100               Canadian Whiskies            260   \n6   1012100               Canadian Whiskies            260   \n7   1031100                 American Vodkas            301   \n\n            Vendor Name Item Number                         Item Description  \\\n0      Infinium Spirits      100233  Corralejo Reposado w/2 Sangrita Glasses   \n1      Infinium Spirits       89242                       Corralejo Reposado   \n2          Latasi Group       88947                  Tequila Comisario Anejo   \n3  SAZERAC COMPANY  INC       16850                         Blantons Bourbon   \n4       DIAGEO AMERICAS       10807                  Crown Royal Regal Apple   \n5       DIAGEO AMERICAS       10809                  Crown Royal Regal Apple   \n6       DIAGEO AMERICAS       11298                              Crown Royal   \n7  FIFTH GENERATION INC       38177                     Titos Handmade Vodka   \n\n   State Bottle Retail  Bottles Sold  \n0                22.50             6  \n1                22.50            18  \n2                44.75             6  \n3                43.13             6  \n4                23.39            12  \n5                47.99             6  \n6                47.99             6  \n7                19.01            12  ",
      "text/html": "<div>\n<style scoped>\n    .dataframe tbody tr th:only-of-type {\n        vertical-align: middle;\n    }\n\n    .dataframe tbody tr th {\n        vertical-align: top;\n    }\n\n    .dataframe thead th {\n        text-align: right;\n    }\n</style>\n<table border=\"1\" class=\"dataframe\">\n  <thead>\n    <tr style=\"text-align: right;\">\n      <th></th>\n      <th>Invoice/Item Number</th>\n      <th>Date</th>\n      <th>Store Number</th>\n      <th>Store Name</th>\n      <th>Category</th>\n      <th>Category Name</th>\n      <th>Vendor Number</th>\n      <th>Vendor Name</th>\n      <th>Item Number</th>\n      <th>Item Description</th>\n      <th>State Bottle Retail</th>\n      <th>Bottles Sold</th>\n    </tr>\n  </thead>\n  <tbody>\n    <tr>\n      <th>0</th>\n      <td>INV-24094600001</td>\n      <td>12/23/2019</td>\n      <td>3881</td>\n      <td>7 Rayos Liquor Store</td>\n      <td>1701100</td>\n      <td>Temporary &amp; Specialty Packages</td>\n      <td>255</td>\n      <td>Infinium Spirits</td>\n      <td>100233</td>\n      <td>Corralejo Reposado w/2 Sangrita Glasses</td>\n      <td>22.50</td>\n      <td>6</td>\n    </tr>\n    <tr>\n      <th>1</th>\n      <td>INV-24094600002</td>\n      <td>12/23/2019</td>\n      <td>3881</td>\n      <td>7 Rayos Liquor Store</td>\n      <td>1022200</td>\n      <td>100% Agave Tequila</td>\n      <td>255</td>\n      <td>Infinium Spirits</td>\n      <td>89242</td>\n      <td>Corralejo Reposado</td>\n      <td>22.50</td>\n      <td>18</td>\n    </tr>\n    <tr>\n      <th>2</th>\n      <td>INV-24094600003</td>\n      <td>12/23/2019</td>\n      <td>3881</td>\n      <td>7 Rayos Liquor Store</td>\n      <td>1022200</td>\n      <td>100% Agave Tequila</td>\n      <td>567</td>\n      <td>Latasi Group</td>\n      <td>88947</td>\n      <td>Tequila Comisario Anejo</td>\n      <td>44.75</td>\n      <td>6</td>\n    </tr>\n    <tr>\n      <th>3</th>\n      <td>INV-24094600004</td>\n      <td>12/23/2019</td>\n      <td>3881</td>\n      <td>7 Rayos Liquor Store</td>\n      <td>1011200</td>\n      <td>Straight Bourbon Whiskies</td>\n      <td>421</td>\n      <td>SAZERAC COMPANY  INC</td>\n      <td>16850</td>\n      <td>Blantons Bourbon</td>\n      <td>43.13</td>\n      <td>6</td>\n    </tr>\n    <tr>\n      <th>4</th>\n      <td>INV-24094600005</td>\n      <td>12/23/2019</td>\n      <td>3881</td>\n      <td>7 Rayos Liquor Store</td>\n      <td>1012100</td>\n      <td>Canadian Whiskies</td>\n      <td>260</td>\n      <td>DIAGEO AMERICAS</td>\n      <td>10807</td>\n      <td>Crown Royal Regal Apple</td>\n      <td>23.39</td>\n      <td>12</td>\n    </tr>\n    <tr>\n      <th>5</th>\n      <td>INV-24094600006</td>\n      <td>12/23/2019</td>\n      <td>3881</td>\n      <td>7 Rayos Liquor Store</td>\n      <td>1012100</td>\n      <td>Canadian Whiskies</td>\n      <td>260</td>\n      <td>DIAGEO AMERICAS</td>\n      <td>10809</td>\n      <td>Crown Royal Regal Apple</td>\n      <td>47.99</td>\n      <td>6</td>\n    </tr>\n    <tr>\n      <th>6</th>\n      <td>INV-24094600007</td>\n      <td>12/23/2019</td>\n      <td>3881</td>\n      <td>7 Rayos Liquor Store</td>\n      <td>1012100</td>\n      <td>Canadian Whiskies</td>\n      <td>260</td>\n      <td>DIAGEO AMERICAS</td>\n      <td>11298</td>\n      <td>Crown Royal</td>\n      <td>47.99</td>\n      <td>6</td>\n    </tr>\n    <tr>\n      <th>7</th>\n      <td>INV-24094600008</td>\n      <td>12/23/2019</td>\n      <td>3881</td>\n      <td>7 Rayos Liquor Store</td>\n      <td>1031100</td>\n      <td>American Vodkas</td>\n      <td>301</td>\n      <td>FIFTH GENERATION INC</td>\n      <td>38177</td>\n      <td>Titos Handmade Vodka</td>\n      <td>19.01</td>\n      <td>12</td>\n    </tr>\n  </tbody>\n</table>\n</div>"
     },
     "metadata": {},
     "execution_count": 52
    }
   ],
   "source": [
    "pd.options.display.max_rows = 999\n",
    "gg = ff[dt.f[2] == 3881\t ,:]\n",
    "gg.sort(\"Invoice/Item Number\").to_pandas()"
   ]
  },
  {
   "cell_type": "code",
   "execution_count": null,
   "metadata": {},
   "outputs": [],
   "source": [
    "\n"
   ]
  }
 ],
 "metadata": {
  "language_info": {
   "codemirror_mode": {
    "name": "ipython",
    "version": 3
   },
   "file_extension": ".py",
   "mimetype": "text/x-python",
   "name": "python",
   "nbconvert_exporter": "python",
   "pygments_lexer": "ipython3",
   "version": "3.7.3-final"
  },
  "orig_nbformat": 2,
  "kernelspec": {
   "name": "python37364bitbaseconda237d47ed00c34faa8bb5ab0c5c219e3a",
   "display_name": "Python 3.7.3 64-bit ('base': conda)"
  }
 },
 "nbformat": 4,
 "nbformat_minor": 2
}